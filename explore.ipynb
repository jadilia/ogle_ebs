{
 "cells": [
  {
   "cell_type": "code",
   "execution_count": 1,
   "metadata": {
    "collapsed": true
   },
   "outputs": [],
   "source": [
    "%matplotlib inline\n",
    "import numpy as np\n",
    "import matplotlib.pyplot as plt\n",
    "import pandas as pd"
   ]
  },
  {
   "cell_type": "code",
   "execution_count": 28,
   "metadata": {
    "collapsed": true
   },
   "outputs": [],
   "source": [
    "import gatspy\n",
    "from gatspy.periodic import LombScargle, LombScargleFast"
   ]
  },
  {
   "cell_type": "code",
   "execution_count": 3,
   "metadata": {
    "collapsed": false
   },
   "outputs": [],
   "source": [
    "ecl = pd.read_table('ecl.dat',delim_whitespace=True,names=('Object','I','V-I','Depth','P','P_err','t0'))\n",
    "# ecl"
   ]
  },
  {
   "cell_type": "code",
   "execution_count": 58,
   "metadata": {
    "collapsed": false,
    "scrolled": true
   },
   "outputs": [
    {
     "name": "stdout",
     "output_type": "stream",
     "text": [
      "WARNING, 1 DAY!\n",
      "WARNING, 1 DAY!\n",
      "WARNING, 1 DAY!\n",
      "WARNING, 1 DAY!\n",
      "WARNING, 1 DAY!\n",
      "WARNING, 1 DAY!\n"
     ]
    }
   ],
   "source": [
    "# k = 150\n",
    "p_cutoff = 0.02\n",
    "peak_cutoff = 0.1\n",
    "for k in range(0, 100):\n",
    "    # this is inside the loop over k\n",
    "    file = 'phot/I/' + ecl['Object'][k] + '.dat'\n",
    "    df = pd.read_table(file,delim_whitespace=True,names=('time','mag','err'))\n",
    "    p = ecl['P'][k]\n",
    "\n",
    "    phase = np.mod(df['time'], p) / p\n",
    "    \n",
    "    n_bin = int(np.floor(len(phase) / 25))\n",
    "    if n_bin < 20:\n",
    "        n_bin = 20\n",
    "    # n_bin = 40\n",
    "    min_num = 5\n",
    "    #x_bin = np.zeros(n_bin)\n",
    "    y_bin = np.zeros(n_bin)\n",
    "    x_bin = np.linspace(0, 1, n_bin) #+ (0.5 / n_bin)\n",
    "    mag2 = np.zeros(len(phase))\n",
    "\n",
    "    for j in range(n_bin):\n",
    "        data = np.where((phase >= j/n_bin) & (phase < (j + 1)/n_bin))[0]\n",
    "        # if theres not enough data, dont fill the bin\n",
    "        if len(data) >= min_num:\n",
    "            # x_bin[j] = np.median(phase[data])\n",
    "            y_bin[j] = np.median(df['mag'].values[data])\n",
    "            mag2[data] = df['mag'].values[data] - y_bin[j]\n",
    "    \n",
    "    ls = LombScargleFast(fit_period=True)\n",
    "    ls.optimizer.period_range = (0.1, 20)\n",
    "    ls.optimizer.quiet=True\n",
    "    ls.fit(df['time'], mag2, df['err'])\n",
    "    peak = ls.find_best_periods(n_periods=1, return_scores=True);\n",
    "    # print(peak, p2)\n",
    "    p2 = peak[0]\n",
    "    new_p = np.abs((p2 - p)/p) > p_cutoff    \n",
    "    if new_p:\n",
    "        if peak[1] > peak_cutoff:\n",
    "            if (p2 > 0.99) & (p2 < 1.01):\n",
    "                print('WARNING, 1 DAY!')\n",
    "\n",
    "            phase2 = np.mod(df['time'], p2) / p2\n",
    "\n",
    "            plt.figure()\n",
    "            plt.scatter(phase2, mag2, alpha = 0.5, c = df['time'])\n",
    "            plt.xlabel('phase (p2 =' + str(p2) + ', p = ' + str(p) + ')')\n",
    "            plt.ylabel('I [mag]')\n",
    "            plt.title(ecl['Object'][k])\n",
    "            plt.xlim(0, 1)\n",
    "            plt.gca().invert_yaxis()\n",
    "            plt.savefig('figures/' + ecl['Object'][k] + '_p2.png')\n",
    "            plt.close()\n",
    "            \n",
    "            plt.figure()\n",
    "            plt.scatter(phase, df['mag'], alpha = 0.5, c = df['time'])\n",
    "            plt.xlabel('phase (P =' + str(p) + ')')\n",
    "            plt.ylabel('I [mag]')\n",
    "            plt.title(ecl['Object'][k])\n",
    "            plt.xlim(0, 1)\n",
    "            plt.plot(x_bin, y_bin, c = 'yellow', lw = 3, alpha = .5)\n",
    "            plt.scatter(phase, mag2 + np.max(df['mag']) + 0.2, s = 2, c = 'black')\n",
    "            plt.gca().invert_yaxis()\n",
    "            plt.savefig('figures/' + ecl['Object'][k] + '_p1.png')\n",
    "            plt.close()"
   ]
  },
  {
   "cell_type": "code",
   "execution_count": null,
   "metadata": {
    "collapsed": true
   },
   "outputs": [],
   "source": [
    "# Step 3: Subtract off known period. Using polyfit or a running median, etc.\n",
    "# Step 4: Make a new periodogram and search for new periods."
   ]
  },
  {
   "cell_type": "code",
   "execution_count": 5,
   "metadata": {
    "collapsed": false
   },
   "outputs": [
    {
     "data": {
      "text/plain": [
       "<matplotlib.collections.PathCollection at 0x7f73d6ff6f60>"
      ]
     },
     "execution_count": 5,
     "metadata": {},
     "output_type": "execute_result"
    },
    {
     "data": {
      "image/png": "[encoded data removed]",
      "text/plain": [
       "<matplotlib.figure.Figure at 0x7f73df2fb278>"
      ]
     },
     "metadata": {},
     "output_type": "display_data"
    }
   ],
   "source": [
    "#plt.scatter(df['time'], df['mag'])\n",
    "plt.scatter(df['time'], mag2, s = 2)"
   ]
  },
  {
   "cell_type": "code",
   "execution_count": 21,
   "metadata": {
    "collapsed": false
   },
   "outputs": [],
   "source": [
    "# Make Lomb-Scargle periodogram on mag2 using gatspy\n",
    "# http://www.astroml.org/gatspy/periodic/API.html#gatspy.periodic.LombScargle"
   ]
  },
  {
   "cell_type": "code",
   "execution_count": 32,
   "metadata": {
    "collapsed": false
   },
   "outputs": [
    {
     "name": "stderr",
     "output_type": "stream",
     "text": [
      "/astro/users/ja995/.local/lib/python3.5/site-packages/gatspy/periodic/lomb_scargle_fast.py:445: UserWarning: The score() method defaults to a slower O[N^2] algorithm.\n",
      "Use the score_frequency_grid() method to access the fast FFT-based algorithm.\n",
      "To silence this warning, set ``silence_warnings=True``\n",
      "  warnings.warn(\"The score() method defaults to a slower O[N^2] \"\n"
     ]
    },
    {
     "data": {
      "image/png": "[encoded data removed]",
      "text/plain": [
       "<matplotlib.figure.Figure at 0x7f73d6b05320>"
      ]
     },
     "metadata": {},
     "output_type": "display_data"
    }
   ],
   "source": [
    "ls = LombScargleFast().fit(df['time'], mag2, df['err'])\n",
    "periods = np.logspace(-1.5, 1.5, 5000)\n",
    "power = ls.periodogram(periods=periods)\n",
    "plt.plot(periods, power)\n",
    "plt.xscale('log')"
   ]
  },
  {
   "cell_type": "code",
   "execution_count": 35,
   "metadata": {
    "collapsed": false
   },
   "outputs": [
    {
     "name": "stdout",
     "output_type": "stream",
     "text": [
      "Finding optimal frequency:\n",
      " - Estimated peak width = 0.013\n",
      " - Using 5 steps per peak; omega_step = 0.0026\n",
      " - User-specified period range:  0.1 to 20\n",
      " - Computing periods at 24072 steps\n",
      "Zooming-in on 5 candidate peaks:\n",
      " - Computing periods at 995 steps\n",
      "False\n"
     ]
    }
   ],
   "source": [
    "ls.optimizer.period_range = (0.1, 20)\n",
    "p2 = ls.best_period\n",
    "p_cutoff = 0.05\n",
    "print(np.abs((p2 - p)/p) > p_cutoff)"
   ]
  },
  {
   "cell_type": "code",
   "execution_count": 50,
   "metadata": {
    "collapsed": false
   },
   "outputs": [
    {
     "data": {
      "text/plain": [
       "(array([ 10.2190298]), array([ 0.00896931]))"
      ]
     },
     "execution_count": 50,
     "metadata": {},
     "output_type": "execute_result"
    }
   ],
   "source": [
    "ls.optimizer.quiet=True\n",
    "ls.find_best_periods(n_periods=1, return_scores=True)"
   ]
  },
  {
   "cell_type": "code",
   "execution_count": 55,
   "metadata": {
    "collapsed": false
   },
   "outputs": [
    {
     "data": {
      "text/plain": [
       "347.37"
      ]
     },
     "execution_count": 55,
     "metadata": {},
     "output_type": "execute_result"
    }
   ],
   "source": [
    "len(ecl) * .03"
   ]
  },
  {
   "cell_type": "markdown",
   "metadata": {},
   "source": [
    "# NOTES \n",
    "\n",
    "- Run for all objects\n",
    "- Save plots to files\n",
    "- Save original phase folded plot\n",
    "- Save big table of new periods, amplitudes, warnings\n"
   ]
  },
  {
   "cell_type": "code",
   "execution_count": null,
   "metadata": {
    "collapsed": true
   },
   "outputs": [],
   "source": []
  }
 ],
 "metadata": {
  "kernelspec": {
   "display_name": "Python 3",
   "language": "python",
   "name": "python3"
  },
  "language_info": {
   "codemirror_mode": {
    "name": "ipython",
    "version": 3
   },
   "file_extension": ".py",
   "mimetype": "text/x-python",
   "name": "python",
   "nbconvert_exporter": "python",
   "pygments_lexer": "ipython3",
   "version": "3.5.2"
  }
 },
 "nbformat": 4,
 "nbformat_minor": 0
}
